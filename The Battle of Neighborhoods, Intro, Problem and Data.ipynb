{
 "cells": [
  {
   "cell_type": "markdown",
   "metadata": {},
   "source": [
    "# Which Borough in London is for Me?\n",
    "## Introduction:"
   ]
  },
  {
   "cell_type": "markdown",
   "metadata": {},
   "source": [
    "The capital of the UK, London, experience a growth of 200,000 domestic residents every year. The city attracts all types of people from around the UK and around the world as it offers many oppurtunities and experiences. The city is growing in population. However, with every large city comes the abundant amount of criminal offenses. The London Datastore has a datahas the crime rate for each"
   ]
  },
  {
   "cell_type": "markdown",
   "metadata": {},
   "source": [
    "## The Problem:\n"
   ]
  },
  {
   "cell_type": "markdown",
   "metadata": {},
   "source": [
    "When people move to a new location, it is in their interest to identify the area they would be most comfortable in. This depends on what type of person but for the project's sake, we will be looking to find the ideal location in london. The project will attempt to identify the safest borough in London based on the rates and the number of incidents, there will then be exploration of the neighborhoods to find common venues and the neighborhoods will also be clustered using k-mean methods."
   ]
  },
  {
   "cell_type": "markdown",
   "metadata": {},
   "source": [
    "## The Data:"
   ]
  },
  {
   "cell_type": "markdown",
   "metadata": {},
   "source": [
    "The London Datastore has a datset that has the crime rate for each borough from year 1999-00, to 2016-17. The most relevant data will be the data in 2016-17.\n",
    "\n",
    "\n",
    "From the wiki page: https://en.wikipedia.org/wiki/List_of_London_boroughs , data about the boroughs will be scraped and processed.\n",
    "\n",
    "This will be used along with Fouresquare API to locate venues nearby and other relevant information on the neigborhood. \n",
    "\n",
    "**Data to be used:**\n",
    "\n",
    "**From the wiki page:**\n",
    "* Borough: the name of the borough\n",
    "* Inner: Categorising the borough as an inner London or outer London Borough\n",
    "* Status: Royal, City or other \n",
    "* Local Authority: The local authority assigned to the borough\n",
    "* Political Control:The political party controlling the borough\n",
    "* Headquarters: HQ of the Borough\n",
    "* Area(sq mi): Area of the Borough in Sq miles\n",
    "* Coordinates: The latitude and longitude of the borough\n",
    "\n",
    "**From the London Datastore dataset**\n",
    "* Code: Code of records\n",
    "* Borough: Name of borough \n",
    "* Year: year of reporting\n",
    "* Offences: type of offences\n",
    "* Rate: Crime rate\n",
    "* Number of offences: number of offences"
   ]
  },
  {
   "cell_type": "code",
   "execution_count": null,
   "metadata": {},
   "outputs": [],
   "source": []
  }
 ],
 "metadata": {
  "kernelspec": {
   "display_name": "Python 3",
   "language": "python",
   "name": "python3"
  },
  "language_info": {
   "codemirror_mode": {
    "name": "ipython",
    "version": 3
   },
   "file_extension": ".py",
   "mimetype": "text/x-python",
   "name": "python",
   "nbconvert_exporter": "python",
   "pygments_lexer": "ipython3",
   "version": "3.7.6"
  }
 },
 "nbformat": 4,
 "nbformat_minor": 4
}
